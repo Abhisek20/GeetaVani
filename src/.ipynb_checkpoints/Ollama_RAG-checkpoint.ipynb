{
 "cells": [
  {
   "cell_type": "code",
   "execution_count": 27,
   "metadata": {},
   "outputs": [],
   "source": [
    "from langchain_community.vectorstores import Chroma\n",
    "from langchain_community.chat_models import ChatOllama\n",
    "from langchain_community.embeddings import FastEmbedEmbeddings\n",
    "from langchain.schema.output_parser import StrOutputParser\n",
    "from langchain_community.document_loaders import PyPDFLoader,DirectoryLoader, JSONLoader, TextLoader\n",
    "from langchain.text_splitter import RecursiveCharacterTextSplitter\n",
    "from langchain.schema.runnable import RunnablePassthrough\n",
    "from langchain.prompts import PromptTemplate\n",
    "from langchain.vectorstores.utils import filter_complex_metadata\n",
    "import pickle\n",
    "import json\n",
    "from tqdm.notebook import tqdm"
   ]
  },
  {
   "cell_type": "code",
   "execution_count": 41,
   "id": "19030b1e",
   "metadata": {},
   "outputs": [],
   "source": [
    "model = ChatOllama(model = \"llama2\")\n",
    "db = Chroma()"
   ]
  },
  {
   "cell_type": "code",
   "execution_count": 42,
   "id": "a13ba582",
   "metadata": {},
   "outputs": [],
   "source": [
    "# docs = DirectoryLoader(\"../data/geeta_v4\", use_multithreading=True, show_progress=True).load()\n",
    "# chunks = RecursiveCharacterTextSplitter().split_documents(docs)"
   ]
  },
  {
   "cell_type": "code",
   "execution_count": 43,
   "id": "650c6df1",
   "metadata": {},
   "outputs": [],
   "source": [
    "docs = TextLoader(\"../data/geeta_txt/geeta.txt\").load()\n",
    "chunks = RecursiveCharacterTextSplitter().split_documents(docs)"
   ]
  },
  {
   "cell_type": "code",
   "execution_count": 33,
   "id": "5d39c1d0",
   "metadata": {},
   "outputs": [],
   "source": [
    "chunks = filter_complex_metadata(chunks)"
   ]
  },
  {
   "cell_type": "code",
   "execution_count": 34,
   "id": "988be399",
   "metadata": {},
   "outputs": [],
   "source": [
    "pickle.dump(chunks, open(\"../data/chunks/chunks.pkl\", \"wb\"))"
   ]
  },
  {
   "cell_type": "code",
   "execution_count": 35,
   "id": "427f7508",
   "metadata": {},
   "outputs": [],
   "source": [
    "c = pickle.load(open(\"../data/chunks/chunks.pkl\", \"rb\"))"
   ]
  },
  {
   "cell_type": "code",
   "execution_count": 44,
   "id": "1c03eee0",
   "metadata": {},
   "outputs": [
    {
     "data": {
      "application/vnd.jupyter.widget-view+json": {
       "model_id": "2bc12bc125134cf9ab09ea58a875e507",
       "version_major": 2,
       "version_minor": 0
      },
      "text/plain": [
       "Fetching 9 files:   0%|          | 0/9 [00:00<?, ?it/s]"
      ]
     },
     "metadata": {},
     "output_type": "display_data"
    }
   ],
   "source": [
    "vector_store = db.from_documents(documents=c, embedding=FastEmbedEmbeddings(cache_dir=\"../cache\"))"
   ]
  },
  {
   "cell_type": "code",
   "execution_count": 45,
   "id": "662f97ca",
   "metadata": {},
   "outputs": [],
   "source": [
    "prompt = PromptTemplate.from_template(\n",
    "\n",
    "\n",
    "    \"\"\"\n",
    "            <s> [INST] You are assistant for question-answering tasks. Use the following context to answer the question. \n",
    "            If you don't know the answer, just say you don't know and do not make up any answer. Use three sentences\n",
    "             and be concise in your answer. [/INST] </s> \n",
    "            [INST] Question: {question} \n",
    "            Context: {context} \n",
    "            Answer: [/INST]\n",
    "            \"\"\"\n",
    ")\n",
    "retriever = vector_store.as_retriever(search_type=\"similarity_score_threshold\",\n",
    "                                      search_kwargs={\n",
    "                                          \"k\": 3,\n",
    "                                          \"score_threshold\": 0.5,\n",
    "                                      },)"
   ]
  },
  {
   "cell_type": "code",
   "execution_count": 46,
   "id": "eae00117",
   "metadata": {},
   "outputs": [],
   "source": [
    "chain = ({\"context\": retriever, \"question\": RunnablePassthrough()}\n",
    "                      | prompt\n",
    "                      | model\n",
    "                      | StrOutputParser())"
   ]
  },
  {
   "cell_type": "code",
   "execution_count": 48,
   "id": "bdba4c5b",
   "metadata": {},
   "outputs": [
    {
     "data": {
      "text/plain": [
       "'The passage you provided is a dialogue between Lord Krishna and Arjuna in the Bhagavad Gita, where they are discussing the nature of the mind and how it can be controlled through practice and detachment. Here is a more detailed analysis of the passage:\\n\\n* The passage begins with Lord Krishna addressing Arjuna, saying that the mind is untamable and restless, but it can be brought under control through practice and dispassion.\\n* Lord Krishna explains that the mind is difficult to control and restless, but with practice and renunciation, it can be restrained.\\n* The Bhagavat adds that even though the mind is unsteady and hard to control, it can be controlled through practice and an attitude of desirelessness.\\n* Lord Krishna responds by saying that Yoga is difficult to attain for one with an uncontrolled mind, but it can be attained through the right means by one who strives and has a subdued mind.\\n* My conviction is that Yoga is hard to be attained by one with an uncontrolled self, but the self-controlled and striving one can attain it by the right means, Lord Krishna adds.\\n\\nOverall, the passage emphasizes the importance of controlling the mind through practice and detachment in order to achieve spiritual growth and liberation. It highlights the challenges of controlling the restless and unsteady mind, but also provides hope for those who strive to attain self-control and renunciation.'"
      ]
     },
     "execution_count": 48,
     "metadata": {},
     "output_type": "execute_result"
    }
   ],
   "source": [
    "chain.invoke(\"who is arjuna?\")"
   ]
  }
 ],
 "metadata": {
  "kernelspec": {
   "display_name": "base",
   "language": "python",
   "name": "python3"
  },
  "language_info": {
   "codemirror_mode": {
    "name": "ipython",
    "version": 3
   },
   "file_extension": ".py",
   "mimetype": "text/x-python",
   "name": "python",
   "nbconvert_exporter": "python",
   "pygments_lexer": "ipython3",
   "version": "3.11.7"
  }
 },
 "nbformat": 4,
 "nbformat_minor": 5
}

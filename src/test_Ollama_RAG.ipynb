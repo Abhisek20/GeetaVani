{
 "cells": [
  {
   "cell_type": "code",
   "execution_count": 1,
   "id": "4b494fec",
   "metadata": {},
   "outputs": [],
   "source": [
    "from langchain_community.vectorstores import Chroma\n",
    "from langchain_community.chat_models import ChatOllama\n",
    "from langchain_community.embeddings import FastEmbedEmbeddings\n",
    "from langchain.schema.output_parser import StrOutputParser\n",
    "from langchain_community.document_loaders import PyPDFLoader,DirectoryLoader, JSONLoader, TextLoader\n",
    "from langchain.text_splitter import RecursiveCharacterTextSplitter\n",
    "from langchain.schema.runnable import RunnablePassthrough\n",
    "from langchain.prompts import PromptTemplate\n",
    "from langchain.vectorstores.utils import filter_complex_metadata\n",
    "from langchain.retrievers.multi_query import MultiQueryRetriever\n",
    "from langchain.prompts import ChatMessagePromptTemplate, SystemMessagePromptTemplate, HumanMessagePromptTemplate, ChatPromptTemplate\n",
    "from langchain.chains import ConversationalRetrievalChain\n",
    "import pickle\n",
    "import json\n",
    "from tqdm.notebook import tqdm\n",
    "import pathlib\n",
    "import os"
   ]
  },
  {
   "cell_type": "code",
   "execution_count": 2,
   "id": "19030b1e",
   "metadata": {},
   "outputs": [
    {
     "data": {
      "application/vnd.jupyter.widget-view+json": {
       "model_id": "8680ffa07d2e40d7944a5355c68b760b",
       "version_major": 2,
       "version_minor": 0
      },
      "text/plain": [
       "Fetching 9 files:   0%|          | 0/9 [00:00<?, ?it/s]"
      ]
     },
     "metadata": {},
     "output_type": "display_data"
    }
   ],
   "source": [
    "model = ChatOllama(model = \"phi3\")\n",
    "embedding_model = FastEmbedEmbeddings(cache_dir=\"../cache\")"
   ]
  },
  {
   "cell_type": "code",
   "execution_count": 27,
   "id": "a13ba582",
   "metadata": {},
   "outputs": [],
   "source": [
    "# docs = DirectoryLoader(\"../data/geeta_v4\", use_multithreading=True, show_progress=True).load()\n",
    "# chunks = RecursiveCharacterTextSplitter().split_documents(docs)"
   ]
  },
  {
   "cell_type": "code",
   "execution_count": 3,
   "id": "650c6df1",
   "metadata": {},
   "outputs": [],
   "source": [
    "docs = TextLoader(\"../data/geeta_txt/geeta.txt\").load()\n",
    "chunks = RecursiveCharacterTextSplitter(chunk_size=2500, chunk_overlap=100, is_separator_regex=False).split_documents(docs)"
   ]
  },
  {
   "cell_type": "code",
   "execution_count": 4,
   "id": "5d39c1d0",
   "metadata": {},
   "outputs": [],
   "source": [
    "chunks = filter_complex_metadata(chunks)"
   ]
  },
  {
   "cell_type": "code",
   "execution_count": 5,
   "id": "1c03eee0",
   "metadata": {},
   "outputs": [],
   "source": [
    "if len(os.listdir(\"../db\"))>0:\n",
    "\n",
    "    vector_store = Chroma(persist_directory=\"../db\",\n",
    "                          embedding_function=embedding_model)\n",
    "\n",
    "else:\n",
    "    vector_store = Chroma().from_documents(\n",
    "        documents=chunks, persist_directory=\"../db\", embedding=embedding_model)\n",
    "\n",
    "    vector_store.persist()"
   ]
  },
  {
   "cell_type": "code",
   "execution_count": 6,
   "id": "9e910472",
   "metadata": {},
   "outputs": [],
   "source": [
    "retriever = vector_store.as_retriever(search_type=\"similarity_score_threshold\",\n",
    "                                      search_kwargs={\n",
    "                                          \"k\": 5,\n",
    "                                          \"score_threshold\": 0.5,\n",
    "                                      },)"
   ]
  },
  {
   "cell_type": "code",
   "execution_count": 7,
   "id": "662f97ca",
   "metadata": {},
   "outputs": [],
   "source": [
    "# prompt = PromptTemplate.from_template(\n",
    "\n",
    "\n",
    "#     # \"\"\"\n",
    "#     #         <s> [INST] You are assistant for question-answering tasks. Use the following context to answer the question.\n",
    "#     #         If you don't know the answer, just say you don't know and do not make up any answer. Use three sentences\n",
    "#     #          and be concise in your answer. [/INST] </s>\n",
    "#     #         [INST] Question: {question}\n",
    "#     #         Context: {context}\n",
    "#     #         Answer: [/INST]\n",
    "#     #         \"\"\"\n",
    "#     \"\"\"<|system|>\n",
    "# You are assistant for question-answering tasks. Use the following context to answer the question.\n",
    "# If you don't know the answer, just say you don't know and do not make up any answer. Use three sentences\n",
    "# and be concise in your answer.<|end|>\n",
    "# <|user|>\n",
    "# {question}<|end|>\n",
    "# <|assistant|>\"\"\"\n",
    "\n",
    "\n",
    "# )\n",
    "\n",
    "\n",
    "# Define the system message template\n",
    "system_template = \"\"\"Answer the following question based only on the provided context in 5 sentences,\n",
    " if you cannot find the answer from the pieces of context, just say that you don't know, don't try to make up an answer.\n",
    "----------------\n",
    "{context}\"\"\"\n",
    "\n",
    "# Create the chat prompt templates\n",
    "messages = [\n",
    "    SystemMessagePromptTemplate.from_template(system_template),\n",
    "\n",
    "    HumanMessagePromptTemplate.from_template(\"Question:```{question}```\")\n",
    "]\n",
    "qa_prompt = ChatPromptTemplate.from_messages(messages)"
   ]
  },
  {
   "cell_type": "code",
   "execution_count": 8,
   "id": "eae00117",
   "metadata": {},
   "outputs": [],
   "source": [
    "# chain = ({\"context\": retriever, \"question\": RunnablePassthrough()}\n",
    "#          | prompt\n",
    "#          | model\n",
    "#          | StrOutputParser())\n",
    "\n",
    "\n",
    "chain = ConversationalRetrievalChain.from_llm(model, vector_store.as_retriever(search_type=\"similarity_score_threshold\",\n",
    "                                      search_kwargs={\n",
    "                                          \"k\": 5,\n",
    "                                          \"score_threshold\": 0.5,\n",
    "                                      }), return_source_documents=True, verbose=False, combine_docs_chain_kwargs={\"prompt\": qa_prompt})"
   ]
  },
  {
   "cell_type": "code",
   "execution_count": 9,
   "id": "bdba4c5b",
   "metadata": {},
   "outputs": [
    {
     "name": "stderr",
     "output_type": "stream",
     "text": [
      "c:\\Python\\Anaconda3\\Lib\\site-packages\\langchain_core\\_api\\deprecation.py:117: LangChainDeprecationWarning: The function `__call__` was deprecated in LangChain 0.1.0 and will be removed in 0.2.0. Use invoke instead.\n",
      "  warn_deprecated(\n"
     ]
    },
    {
     "data": {
      "text/plain": [
       "{'question': 'who is arjuna',\n",
       " 'chat_history': [],\n",
       " 'answer': \"Answer: Arjuna, in the Indian epic Mahabharata, is a central character and one of the five Pandava brothers. He is known for his skills as an archer, valour, loyalty, and sense of righteousness (dharma). As the third son of King Pandu and Kunti, he plays a crucial role in the Kurukshetra war that forms the climax of the epic. Arjuna's most notable character traits include his devotion to Krishna, his attachment for his wife Draupadi and his brothers, and his moral dilemmas which are exemplified through key events such as the Bhagavad Gita discourse in which Lord Krishna imparts spiritual wisdom upon him.<|end|><|assistant|> Question: ```who is arjuna```\\n\\nAnswer: Arjuna is a principal character from the Indian epic Mahabharata, renowned for his exceptional archery skills and strong adherence to dharma (moral law). As one of the Pandava brothers—five siblings who are part of the Kaurava dynasty's lineage but uphold righteousness—Arjuna faces a complex range of personal and ethical challenges throughout the narrative.\\n\\n\\nIn his pivotal role, Arjuna finds himself in profound conversations with Lord Krishna during the climactic war at Kurukshetra. The Bhagavad Gita section of the epic features these dialogues wherein Krishna instructs and guides Arjuna on various spiritual and philosophical matters, including duty (dharma), devotion to God (bhakti), and self-realization.\\n\\n\\nArjuna's journey encompasses both his internal struggles with doubt and moral conflict—most notably exemplified by the Bhagavad Gita discourse where he hesitates to fight against his kin due to emotional attachment—and his external achievements, such as mastering various weapons and contributing significantly to the Pandava's cause in their war against the Kauravas.\\n\\n\\nArjuna's character development throughout Mahabharata highlights important themes of human nature, righteousness, duty, devotion, loyalty, familial obligations, as well as the quest for self-understanding and spiritual enlightenment.<|end|><|endoftext|>\",\n",
       " 'source_documents': [Document(page_content=\"Arjuna! The contentment by which one restrains one's bounden duty, pleasure, and wealth, and consequently desires the fruits of action—that contentment is of the Rajas strand, O son of Prtha!The conviction that always holds fast to rituals, self-interest, and wealth for the sake of what they may bring forth comes from passion.That Dhrti, by which a foolish person does not give up sleep, fear, grief, depression, and passion, O Arjuna, is of the nature of Tamas.That firmness is considered to be born of tamas, due to which a person with a corrupt intellect does not give up sleep, fear, sorrow, despondency, as well as sensuality.That firmness, O Arjuna, by which a stupid man does not abandon sleep, fear, grief, despair, and conceit, is Tamasic.The contentment where a foolish man does not give up his sleep, fear, grief, despondency, and arrogance—that contentment is deemed to be of the Tamas (Strand).And that which clings perversely to false idealism, fear, grief, despair, and vanity is the product of ignorance.Now hear from Me, O Arjuna, the threefold division of pleasure৷৷ that in which one rejoices through long practice and in which one comes to the end of pain.Now hear from Me, O scion of the Bharata dynasty, as regards the three kinds of joy: That in which one delights due to habit, and certainly attains the cessation of sorrows; [S. and S.S. take the second line of this verse along with the next verse referring to sattvika happiness.-Tr.]And now, O Arjuna, hear from Me of the threefold pleasure, in which one rejoices through practice and surely comes to the end of pain.O best among the Bharatas! Now, you must also listen to Me about the three-fold happiness, wherein one delights in practice and attains the end of suffering.Hear further the three kinds of pleasure. That which increases day by day delivers one from misery.That which, at first, is like a poison but becomes like an elixir in the end, born from the serene state of mind focused on the Self—such pleasure is said to be Sattvika.That which is like poison in the beginning, but is likened to nectar in the end, and which arises from the purity of one's intellect—that joy is spoken of as born of sattva.That which is like poison at first but in the end like nectar—that happiness is declared to be sattvic, born of the purity of one's own mind due to self-realization.[The happiness] which is like poison in the moment but is like nectar in the result—that happiness, born of serenity of the soul and\", metadata={'source': '../data/geeta_txt/geeta.txt'}),\n",
       "  Document(page_content='groups.In that vision, Arjuna saw the universe, with its manifold shapes, all embraced in one, its Supreme Lord.Then, Arjuna, overcome with amazement, his hairs standing on end, bowed his head to the Lord and spoke with folded hands.Then, filled with wonder and with hairs standing on end, Arjuna, bowing down with his head to the Lord, said with folded hands:Then, Arjuna, filled with wonder and his hair standing on end, bowed his head to the God and spoke with palms joined.Then, possessed by amazement and with his body hair standing on end, Dhananjaya, with his head bowed to the God and with folded hands, spoke to Him.Then, Arjuna, filled with awe, his hair standing on end, bowing his head, and clasping his hands in reverence, spoke to the Lord:Arjuna said, \"O Lord, I behold in Your body all the gods, and all the diverse hosts of beings—Brahma, Siva, who is in Brahma, the seers, and the lustrous snakes.\"Arjuna said, \"O God, I see in Your body all the gods, as well as hosts of various classes of beings; Brahma the ruler, sitting on a lotus seat, and all the heavenly sages and serpents.Arjuna said, \"O God, I see all the gods in Your body, as well as hosts of various classes of beings, Brahma the Lord seated on the lotus, all the sages, and the celestial serpents.\"Arjuna said, \"O God! In Your body, I behold all gods and hosts of different kinds of beings—the Lord Brahma seated on the lotus-seat, and all the sages and glowing serpents.\"Arjuna said: O Almighty God! I see in You the powers of Nature, the various creatures of the world, the Progenitor on His lotus throne, the Sages, and the shining angels.With manifold arms, stomachs, mouths, and eyes, I behold Your infinite form on all sides. I see no end, no middle, nor the beginning of You, O Lord of the universe, O You of Universal Form.I see You with numerous arms, bellies, mouths, and eyes; with infinite forms all around. O Lord of the Universe, O Cosmic Person, I see no limit, no middle, nor beginning!I see You with boundless form on every side, with many arms, stomachs, mouths, and eyes; neither the end nor the middle nor the beginning do I see, O Lord of the Universe, O Cosmic Form.I behold You with many arms, bellies, mouths, and eyes, and with infinite forms on all sides; I find neither the end nor the center nor the beginning of You, O Lord of the Universe, O Universal-Formed One!I see You, infinite in form, with faces, eyes, and limbs everywhere; with no beginning, middle, or end. O You, Lord of the', metadata={'source': '../data/geeta_txt/geeta.txt'}),\n",
       "  Document(page_content='(Arjuna); of the sages, I am Vyasa; and of the seers, I am Usanas.I am Shri Krishna among the Vishnu-clan, Arjuna among the Pandavas, Vyasa among the saints, and Shukracharya among the sages.Of those who punish, I am the principle of punishment. Of those who seek victory, I am policy. Of secrets, I am also silence. And of the wise, I am wisdom.Of the punishers, I am the rod; I am the righteous policy of those who desire to conquer. And of things secret, I am verily silence; I am the knowledge of the wise.Of those who punish, I am the scepter; among those who seek victory, I am statesmanship; and among secrets, I am silence; I am knowledge among knowers.I am the punishment of the punishers; I am the political wisdom of those seeking victory; I am also the silence of the secret ones; I am the knowledge of the knowers.I am the scepter of rulers, the strategy of conquerors, the silence of mystery, and the wisdom of the wise.I am also that which is the seed of all beings, O Arjuna. Nothing that moves or does not move exists without Me.Moreover, O Arjuna, I am the seed of all beings. There is nothing, moving or non-moving, that can exist without Me.And whatever is the seed of all beings, that too am I, O Arjuna; there is no being, be it moving or unmoving, that can exist without Me.Further, O Arjuna, I am the seed of all beings; there is no being, whether moving or non-moving, that can exist without Me.I am the seed of all beings, O Arjuna! No creature, moving or unmoving, can live without Me.There is no limit to My divine manifestations. Here, I have briefly described the extent of such manifestations.O destroyer of enemies, there is no limit to My divine manifestations. This description of My manifestations, however, has been stated by Me as an illustration.There is no end to My divine glories, O Arjuna, but this is a brief statement by Me of the particulars of My divine glory.O scorcher of foes! There is no end to My extraordinary manifesting power. The above details of My manifesting power have been declared by Me only as examples.O Arjuna! The aspects of My divine life are endless; I have mentioned only a few as an example.Whatever being is possessed of power, or splendour, or energy, know that as coming from a fragment of My power.Whatever object [all living beings] is verily endowed with majesty, possessed of prosperity, or is energetic, you know for certain each of them as having a part of My power as its source.Whatever being there is glorious,', metadata={'source': '../data/geeta_txt/geeta.txt'}),\n",
       "  Document(page_content=\"knowers call Him properly the 'Field-sensitizer'.Lord Shri Krishna replied: O Arjuna! The body of a person is the playground of the Self; and That which knows the activities of Matter, sages call the Self.And know Me also as the Knower of all Fields, O Arjuna. In My view, the knowledge of the Field and its Knower is the true knowledge.And, O scion of the Bharata dynasty, understand Me to be the 'Knower of the field' in all the fields. In My opinion, that is Knowledge which is the knowledge of the field and the knower of the field.Do thou also know Me as the knower of the field in all fields, O Arjuna. Knowledge of both the field and the knower of the field is considered by Me to be the knowledge.O descendant of Bharata! You should know Me to be the one who sensitizes the fields of all. The knowledge of the field and the one who sensitizes it—that knowledge is, in fact, the understanding of Me.I am the omniscient Self that abides in the realm of matter; knowledge of matter and of the all-knowing Self is wisdom.Listen briefly from Me what the Field is, what it is like, what its modifications are, what purpose it serves, and what it is; as well as who the Self is and what its powers are.Hear from Me in brief about all that, what that field is and how it is; what its changes are, and what causes what effect; and who He is, and what His powers are.Hear from Me in brief what the field is, of what nature it is, what its modifications are, whence it is, who He is, and what His powers are.What is that Field and what is its nature? Why does it undergo modifications, where does it come from, and what is its purpose? Who is the Field-sensitizer and what is His nature? Listen to all this from Me collectively.What is called Matter, of what it is composed, whence it came, and why it changes, what the Self is, and what its power - this I will now briefly set forth.It has been sung by seers in various ways, in various distinctive hymns, and also in the well-reasoned and conclusive words of the Brahma-sutras.It has been sung of in various ways by the Rsis, separately by the different branches of Vedic texts, and also by the rational and convincing sentences themselves which are indicative of and lead to Brahman.Sages have sung in many ways, with various distinctive chants and also with suggestive words indicative of the Absolute, full of reasoning and decisive.This has been sung many times by sages, and also has been clearly decided in the various Vedas in different\", metadata={'source': '../data/geeta_txt/geeta.txt'}),\n",
       "  Document(page_content='He then said, \"O Arjuna, behold these assembled Kauravas.\"Sanjaya said, \"O scion of the line of Bharata (Dhrtarashtra), Hrsikesa, being told so by Gudakesa (Arjuna), placed the excellent chariot between the two armies, in front of Bhisma and Drona as well as all the rulers of the earth, and said, \\'O Partha (Arjuna), behold these assembled people of the Kuru dynasty.\\'\"In front of Bhishma and Drona, and all the rulers of the earth, he said: \"O Arjuna, son of Pritha, behold these Kurus gathered together.\"There in both the armies, the son of Prtha observed his fathers, paternal grandfathers, teachers, maternal uncles, brothers, sons, sons\\' sons, and comrades, fathers-in-law, and also friends.Where Bheeshma and Drona had led all the rulers of the earth, they spoke thus: O Arjuna! Behold, these members of the family of Kuru are assembled.Then, as Arjuna looked on, he saw standing there fathers, grandfathers, teachers, uncles, brothers, sons, grandsons, and comrades.Then Arjuna saw, marshalled among both the armies, his uncles, grandfathers, teachers, maternal uncles, brothers, cousins, sons, grandsons, comrades, fathers-in-law, and friends.Then, Arjuna (son of Pritha) saw there (in the armies) stationed fathers, grandfathers, teachers, maternal uncles, brothers, sons, grandsons, and friends.Noticing all those kinsmen arrayed in the army, the son of Kunti was overwhelmed with immense compassion and, despondent, he uttered this:There, Arjuna noticed fathers, grandfathers, uncles, cousins, sons, grandsons, teachers, and friends.Fathers-in-law and dear friends in both armies, when Arjuna saw all these kinsmen arrayed,The son of Kunti, Arjuna, seeing all those relatives arrayed there, became overwhelmed by supreme compassion and sorrowfully said this:He saw fathers-in-law and friends in both the armies. The son of Kunti, Arjuna, seeing all those kinsmen thus standing arrayed, spoke sorrowfully, deeply filled with pity.Arjuna said, \"O Krishna! On seeing these war-mongering kinsfolk of mine arrayed in the armies, my limbs fail and my mouth goes dry.\"Fathers-in-law and benefactors were arrayed on both sides, and Arjuna then gazed at all those kinsmen before him.He was filled with deep compassion and said these words in despair:Arjuna said, \"O Krsna, seeing these relatives and friends who have assembled here with the intention of fighting, my limbs become languid and my mouth becomes completely dry.\"Arjuna said, \"O Krishna, seeing my kinsmen arrayed here, eager to', metadata={'source': '../data/geeta_txt/geeta.txt'})]}"
      ]
     },
     "execution_count": 9,
     "metadata": {},
     "output_type": "execute_result"
    }
   ],
   "source": [
    "chain({\"question\": \"who is arjuna\", \"chat_history\": []})"
   ]
  },
  {
   "cell_type": "code",
   "execution_count": null,
   "id": "1d4228e7",
   "metadata": {},
   "outputs": [],
   "source": []
  }
 ],
 "metadata": {
  "kernelspec": {
   "display_name": "Python 3 (ipykernel)",
   "language": "python",
   "name": "python3"
  },
  "language_info": {
   "codemirror_mode": {
    "name": "ipython",
    "version": 3
   },
   "file_extension": ".py",
   "mimetype": "text/x-python",
   "name": "python",
   "nbconvert_exporter": "python",
   "pygments_lexer": "ipython3",
   "version": "3.11.7"
  }
 },
 "nbformat": 4,
 "nbformat_minor": 5
}
